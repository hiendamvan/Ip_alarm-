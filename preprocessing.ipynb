{
 "cells": [
  {
   "cell_type": "code",
   "execution_count": 29,
   "id": "5a6019e2",
   "metadata": {},
   "outputs": [
    {
     "name": "stderr",
     "output_type": "stream",
     "text": [
      "C:\\Users\\ADMIN\\AppData\\Local\\Temp\\ipykernel_15992\\2331200527.py:4: DtypeWarning: Columns (14) have mixed types. Specify dtype option on import or set low_memory=False.\n",
      "  df = pd.read_csv('data/fixed.csv', on_bad_lines='skip')\n"
     ]
    },
    {
     "data": {
      "text/html": [
       "<div>\n",
       "<style scoped>\n",
       "    .dataframe tbody tr th:only-of-type {\n",
       "        vertical-align: middle;\n",
       "    }\n",
       "\n",
       "    .dataframe tbody tr th {\n",
       "        vertical-align: top;\n",
       "    }\n",
       "\n",
       "    .dataframe thead th {\n",
       "        text-align: right;\n",
       "    }\n",
       "</style>\n",
       "<table border=\"1\" class=\"dataframe\">\n",
       "  <thead>\n",
       "    <tr style=\"text-align: right;\">\n",
       "      <th></th>\n",
       "      <th>id</th>\n",
       "      <th>monitor_segment</th>\n",
       "      <th>fault_id</th>\n",
       "      <th>alarm_name</th>\n",
       "      <th>group_id</th>\n",
       "      <th>group_name</th>\n",
       "      <th>alarm_type_id</th>\n",
       "      <th>alarm_type_name</th>\n",
       "      <th>severity_id</th>\n",
       "      <th>severity_name</th>\n",
       "      <th>...</th>\n",
       "      <th>country_code</th>\n",
       "      <th>alarm_group_id</th>\n",
       "      <th>process_code</th>\n",
       "      <th>process_exe_id</th>\n",
       "      <th>process_node</th>\n",
       "      <th>source_alarm_id</th>\n",
       "      <th>monitoring_unit</th>\n",
       "      <th>is_deleted</th>\n",
       "      <th>sys_time</th>\n",
       "      <th>port</th>\n",
       "    </tr>\n",
       "  </thead>\n",
       "  <tbody>\n",
       "    <tr>\n",
       "      <th>0</th>\n",
       "      <td>406843</td>\n",
       "      <td>IP_CORE</td>\n",
       "      <td>41955018.0</td>\n",
       "      <td>Interface down</td>\n",
       "      <td>153.0</td>\n",
       "      <td>NaN</td>\n",
       "      <td>0.0</td>\n",
       "      <td>NaN</td>\n",
       "      <td>1.0</td>\n",
       "      <td>NaN</td>\n",
       "      <td>...</td>\n",
       "      <td>VNM</td>\n",
       "      <td>299325.0</td>\n",
       "      <td>NaN</td>\n",
       "      <td>0.0</td>\n",
       "      <td>NaN</td>\n",
       "      <td>86089892.0</td>\n",
       "      <td>NaN</td>\n",
       "      <td>0.0</td>\n",
       "      <td>1.754962e+12</td>\n",
       "      <td>xe-1/2/1</td>\n",
       "    </tr>\n",
       "    <tr>\n",
       "      <th>1</th>\n",
       "      <td>406850</td>\n",
       "      <td>IP_CORE</td>\n",
       "      <td>41955018.0</td>\n",
       "      <td>Interface down</td>\n",
       "      <td>153.0</td>\n",
       "      <td>NaN</td>\n",
       "      <td>0.0</td>\n",
       "      <td>NaN</td>\n",
       "      <td>1.0</td>\n",
       "      <td>NaN</td>\n",
       "      <td>...</td>\n",
       "      <td>VNM</td>\n",
       "      <td>299325.0</td>\n",
       "      <td>NaN</td>\n",
       "      <td>0.0</td>\n",
       "      <td>NaN</td>\n",
       "      <td>86089961.0</td>\n",
       "      <td>NaN</td>\n",
       "      <td>0.0</td>\n",
       "      <td>1.754962e+12</td>\n",
       "      <td>xe-1/2/1</td>\n",
       "    </tr>\n",
       "    <tr>\n",
       "      <th>2</th>\n",
       "      <td>406849</td>\n",
       "      <td>IP_CORE</td>\n",
       "      <td>41955018.0</td>\n",
       "      <td>Interface down</td>\n",
       "      <td>153.0</td>\n",
       "      <td>NaN</td>\n",
       "      <td>0.0</td>\n",
       "      <td>NaN</td>\n",
       "      <td>1.0</td>\n",
       "      <td>NaN</td>\n",
       "      <td>...</td>\n",
       "      <td>VNM</td>\n",
       "      <td>299321.0</td>\n",
       "      <td>NaN</td>\n",
       "      <td>0.0</td>\n",
       "      <td>NaN</td>\n",
       "      <td>86089953.0</td>\n",
       "      <td>NaN</td>\n",
       "      <td>0.0</td>\n",
       "      <td>1.754962e+12</td>\n",
       "      <td>ge-0/0/4</td>\n",
       "    </tr>\n",
       "    <tr>\n",
       "      <th>3</th>\n",
       "      <td>406847</td>\n",
       "      <td>IP_CORE</td>\n",
       "      <td>41955018.0</td>\n",
       "      <td>Interface down</td>\n",
       "      <td>153.0</td>\n",
       "      <td>NaN</td>\n",
       "      <td>0.0</td>\n",
       "      <td>NaN</td>\n",
       "      <td>1.0</td>\n",
       "      <td>NaN</td>\n",
       "      <td>...</td>\n",
       "      <td>VNM</td>\n",
       "      <td>299321.0</td>\n",
       "      <td>NaN</td>\n",
       "      <td>0.0</td>\n",
       "      <td>NaN</td>\n",
       "      <td>86089935.0</td>\n",
       "      <td>NaN</td>\n",
       "      <td>0.0</td>\n",
       "      <td>1.754962e+12</td>\n",
       "      <td>ge-0/0/4</td>\n",
       "    </tr>\n",
       "    <tr>\n",
       "      <th>4</th>\n",
       "      <td>406840</td>\n",
       "      <td>IP_CORE</td>\n",
       "      <td>500000009.0</td>\n",
       "      <td>Voltage exceeded the upper prealarm limit - Hardware</td>\n",
       "      <td>152.0</td>\n",
       "      <td>NaN</td>\n",
       "      <td>0.0</td>\n",
       "      <td>NaN</td>\n",
       "      <td>1.0</td>\n",
       "      <td>NaN</td>\n",
       "      <td>...</td>\n",
       "      <td>VNM</td>\n",
       "      <td>299316.0</td>\n",
       "      <td>NaN</td>\n",
       "      <td>0.0</td>\n",
       "      <td>NaN</td>\n",
       "      <td>86089825.0</td>\n",
       "      <td>NaN</td>\n",
       "      <td>0.0</td>\n",
       "      <td>1.754962e+12</td>\n",
       "      <td>NaN</td>\n",
       "    </tr>\n",
       "  </tbody>\n",
       "</table>\n",
       "<p>5 rows × 64 columns</p>\n",
       "</div>"
      ],
      "text/plain": [
       "       id monitor_segment     fault_id  \\\n",
       "0  406843         IP_CORE   41955018.0   \n",
       "1  406850         IP_CORE   41955018.0   \n",
       "2  406849         IP_CORE   41955018.0   \n",
       "3  406847         IP_CORE   41955018.0   \n",
       "4  406840         IP_CORE  500000009.0   \n",
       "\n",
       "                                             alarm_name  group_id  group_name  \\\n",
       "0                                        Interface down     153.0         NaN   \n",
       "1                                        Interface down     153.0         NaN   \n",
       "2                                        Interface down     153.0         NaN   \n",
       "3                                        Interface down     153.0         NaN   \n",
       "4  Voltage exceeded the upper prealarm limit - Hardware     152.0         NaN   \n",
       "\n",
       "   alarm_type_id  alarm_type_name  severity_id  severity_name  ...  \\\n",
       "0            0.0              NaN          1.0            NaN  ...   \n",
       "1            0.0              NaN          1.0            NaN  ...   \n",
       "2            0.0              NaN          1.0            NaN  ...   \n",
       "3            0.0              NaN          1.0            NaN  ...   \n",
       "4            0.0              NaN          1.0            NaN  ...   \n",
       "\n",
       "  country_code alarm_group_id process_code process_exe_id process_node  \\\n",
       "0          VNM       299325.0          NaN            0.0          NaN   \n",
       "1          VNM       299325.0          NaN            0.0          NaN   \n",
       "2          VNM       299321.0          NaN            0.0          NaN   \n",
       "3          VNM       299321.0          NaN            0.0          NaN   \n",
       "4          VNM       299316.0          NaN            0.0          NaN   \n",
       "\n",
       "  source_alarm_id  monitoring_unit  is_deleted      sys_time      port  \n",
       "0      86089892.0              NaN         0.0  1.754962e+12  xe-1/2/1  \n",
       "1      86089961.0              NaN         0.0  1.754962e+12  xe-1/2/1  \n",
       "2      86089953.0              NaN         0.0  1.754962e+12  ge-0/0/4  \n",
       "3      86089935.0              NaN         0.0  1.754962e+12  ge-0/0/4  \n",
       "4      86089825.0              NaN         0.0  1.754962e+12       NaN  \n",
       "\n",
       "[5 rows x 64 columns]"
      ]
     },
     "execution_count": 29,
     "metadata": {},
     "output_type": "execute_result"
    }
   ],
   "source": [
    "import numpy as np \n",
    "import pandas as pd \n",
    "\n",
    "df = pd.read_csv('data/fixed.csv', on_bad_lines='skip')\n",
    "df.head()"
   ]
  },
  {
   "cell_type": "code",
   "execution_count": 8,
   "id": "b72a947d",
   "metadata": {},
   "outputs": [
    {
     "data": {
      "text/plain": [
       "Index(['id', 'monitor_segment', 'fault_id', 'alarm_name', 'group_id',\n",
       "       'group_name', 'alarm_type_id', 'alarm_type_name', 'severity_id',\n",
       "       'severity_name', 'start_time', 'end_time', 'content', 'addition_info',\n",
       "       'alarm_sequence', 'kedb_code', 'auto_analyzed', 'device_id',\n",
       "       'device_code', 'device_name', 'device_ip', 'component_code',\n",
       "       'link_name', 'vendor_id', 'vendor_name', 'device_type_id',\n",
       "       'device_type_name', 'network_class_id', 'network_class_name',\n",
       "       'network_type_id', 'network_type_name', 'reason_id', 'reason',\n",
       "       'comment', 'location_id', 'location_code', 'location_name',\n",
       "       'alarm_status', 'insert_time', 'update_time', 'create_time',\n",
       "       'monitor_type_id', 'ack_time', 'trouble_code', 'wo_code', 'cr_number',\n",
       "       'is_collected', 'parent_id', 'child_id', 'auto_handled',\n",
       "       'ranking_default', 'ranking_custom', 'label_alarm', 'flash_threshold',\n",
       "       'country_code', 'alarm_group_id', 'process_code', 'process_exe_id',\n",
       "       'process_node', 'source_alarm_id', 'monitoring_unit', 'is_deleted',\n",
       "       'sys_time', 'port'],\n",
       "      dtype='object')"
      ]
     },
     "execution_count": 8,
     "metadata": {},
     "output_type": "execute_result"
    }
   ],
   "source": [
    "#list column names\n",
    "df.columns"
   ]
  },
  {
   "cell_type": "code",
   "execution_count": 9,
   "id": "e58f1bb5",
   "metadata": {},
   "outputs": [
    {
     "data": {
      "text/plain": [
       "alarm_name\n",
       "Interface down                                                            4058\n",
       "CBS.UNDER THRESSHOLD - BW                                                 1836\n",
       "hwEntityInvalid - PORTFAULT (Lost Optical Power)                           759\n",
       "ROUTING-BGP-5-ADJCHANGE                                                    717\n",
       "Down LDP-Huawei-LDP/1/mplsLdpSessionDown_active - Protocol                 519\n",
       "                                                                          ... \n",
       "LICENSE_SOCKET_FAILURE                                                       1\n",
       "XFCHIP error_Primary i2c handle created successfully xfchip_pre_init         1\n",
       "XFCHIP error_xfchip_set_core_pll_frequency                                   1\n",
       "XFCHIP error_Secondary i2c handle created successfully xfchip_pre_init       1\n",
       "XFCHIP error_Jspec registered successfully xfchip_pre_init                   1\n",
       "Name: count, Length: 185, dtype: int64"
      ]
     },
     "execution_count": 9,
     "metadata": {},
     "output_type": "execute_result"
    }
   ],
   "source": [
    "df['alarm_name'].value_counts()"
   ]
  },
  {
   "cell_type": "markdown",
   "id": "6fb22b5c",
   "metadata": {},
   "source": [
    "### Với cùng 1 alarm group id, có 1 vài alarm name khác nhau "
   ]
  },
  {
   "cell_type": "code",
   "execution_count": 13,
   "id": "20eb0bc9",
   "metadata": {},
   "outputs": [
    {
     "data": {
      "text/plain": [
       "alarm_group_id\n",
       "289783.0    209\n",
       "289656.0    198\n",
       "290150.0    148\n",
       "289213.0    136\n",
       "288169.0     67\n",
       "           ... \n",
       "293294.0      1\n",
       "293293.0      1\n",
       "293291.0      1\n",
       "293290.0      1\n",
       "284988.0      1\n",
       "Name: count, Length: 5657, dtype: int64"
      ]
     },
     "execution_count": 13,
     "metadata": {},
     "output_type": "execute_result"
    }
   ],
   "source": [
    "df['alarm_group_id'].value_counts()"
   ]
  },
  {
   "cell_type": "code",
   "execution_count": null,
   "id": "69d85cc1",
   "metadata": {},
   "outputs": [
    {
     "data": {
      "text/plain": [
       "alarm_name\n",
       "CBS.UNDER THRESSHOLD - BW      138\n",
       "Interface down                  70\n",
       "CBS.LOWER 70% THAN PREVIOUS      1\n",
       "Name: count, dtype: int64"
      ]
     },
     "execution_count": 11,
     "metadata": {},
     "output_type": "execute_result"
    }
   ],
   "source": [
    "df[df['alarm_group_id']==289783]['alarm_name'].value_counts()"
   ]
  },
  {
   "cell_type": "code",
   "execution_count": 14,
   "id": "78c168f0",
   "metadata": {},
   "outputs": [
    {
     "data": {
      "text/plain": [
       "alarm_name\n",
       "Interface down                           147\n",
       "CBS.UNDER THRESSHOLD - BW                 36\n",
       "CBS.LOWER 70% THAN PREVIOUS                7\n",
       "(ESC)(BRA)CBS.LOWER 70% THAN PREVIOUS      4\n",
       "ROUTING-OSPF-5-ADJCHG                      2\n",
       "CBS.LOWER 30% THAN PREVIOUS                1\n",
       "link receive power low  alarm set          1\n",
       "Name: count, dtype: int64"
      ]
     },
     "execution_count": 14,
     "metadata": {},
     "output_type": "execute_result"
    }
   ],
   "source": [
    "df[df['alarm_group_id']==289656]['alarm_name'].value_counts()"
   ]
  },
  {
   "cell_type": "code",
   "execution_count": 15,
   "id": "5356543f",
   "metadata": {},
   "outputs": [
    {
     "data": {
      "text/html": [
       "<div>\n",
       "<style scoped>\n",
       "    .dataframe tbody tr th:only-of-type {\n",
       "        vertical-align: middle;\n",
       "    }\n",
       "\n",
       "    .dataframe tbody tr th {\n",
       "        vertical-align: top;\n",
       "    }\n",
       "\n",
       "    .dataframe thead th {\n",
       "        text-align: right;\n",
       "    }\n",
       "</style>\n",
       "<table border=\"1\" class=\"dataframe\">\n",
       "  <thead>\n",
       "    <tr style=\"text-align: right;\">\n",
       "      <th></th>\n",
       "      <th>content</th>\n",
       "      <th>device_code</th>\n",
       "      <th>port</th>\n",
       "    </tr>\n",
       "  </thead>\n",
       "  <tbody>\n",
       "    <tr>\n",
       "      <th>0</th>\n",
       "      <td>QNH8103AGG02_xe-1/2/1_QNH0016PRT04_xe-3/0/0_VIA_L2VPN_LSN8001AGG01_GigabitEthernet7/0/0_QNH0016AGG04_xe-1/2/2 | adminStatus: 1 | operatorStatus: 2</td>\n",
       "      <td>QNH8103AGG02</td>\n",
       "      <td>xe-1/2/1</td>\n",
       "    </tr>\n",
       "    <tr>\n",
       "      <th>1</th>\n",
       "      <td>QNH8103AGG02_xe-1/2/1_QNH0016PRT04_xe-3/0/0_VIA_L2VPN_LSN8001AGG01_GigabitEthernet7/0/0_QNH0016AGG04_xe-1/2/2 | adminStatus: 1 | operatorStatus: 2</td>\n",
       "      <td>QNH8103AGG02</td>\n",
       "      <td>xe-1/2/1</td>\n",
       "    </tr>\n",
       "    <tr>\n",
       "      <th>2</th>\n",
       "      <td>HLA9103P2.SDP-RecommenDB-01_ocp-p1 | adminStatus: 1 | operatorStatus: 2</td>\n",
       "      <td>HLA9103IPTV68</td>\n",
       "      <td>ge-0/0/4</td>\n",
       "    </tr>\n",
       "    <tr>\n",
       "      <th>3</th>\n",
       "      <td>HLA9103P2.SDP-RecommenDB-01_ocp-p1 | adminStatus: 1 | operatorStatus: 2</td>\n",
       "      <td>HLA9103IPTV68</td>\n",
       "      <td>ge-0/0/4</td>\n",
       "    </tr>\n",
       "    <tr>\n",
       "      <th>16</th>\n",
       "      <td>HHT9602.PECD.ASR22.02 | adminStatus: 1 | operatorStatus: 2</td>\n",
       "      <td>HHT9602CSW38</td>\n",
       "      <td>Ethernet1/8</td>\n",
       "    </tr>\n",
       "    <tr>\n",
       "      <th>17</th>\n",
       "      <td>HNI6986ASW01_xge_2/1 | adminStatus: 1 | operatorStatus: 2</td>\n",
       "      <td>HNI5032AGG01</td>\n",
       "      <td>TenGigE0/1/0/0</td>\n",
       "    </tr>\n",
       "    <tr>\n",
       "      <th>18</th>\n",
       "      <td>HLA9103P2.SDP-RecommenDB-01_ocp-p1 | adminStatus: 1 | operatorStatus: 2</td>\n",
       "      <td>HLA9103IPTV68</td>\n",
       "      <td>ge-0/0/4</td>\n",
       "    </tr>\n",
       "    <tr>\n",
       "      <th>19</th>\n",
       "      <td>HLA9103P2.SDP-RecommenDB-01_ocp-p1 | adminStatus: 1 | operatorStatus: 2</td>\n",
       "      <td>HLA9103IPTV68</td>\n",
       "      <td>ge-0/0/4</td>\n",
       "    </tr>\n",
       "    <tr>\n",
       "      <th>20</th>\n",
       "      <td>HLA9103P2.SDP-RecommenDB-01_ocp-p1 | adminStatus: 1 | operatorStatus: 2</td>\n",
       "      <td>HLA9103IPTV68</td>\n",
       "      <td>ge-0/0/4</td>\n",
       "    </tr>\n",
       "    <tr>\n",
       "      <th>21</th>\n",
       "      <td>HLA9103P2.SDP-RecommenDB-01_ocp-p1 | adminStatus: 1 | operatorStatus: 2</td>\n",
       "      <td>HLA9103IPTV68</td>\n",
       "      <td>ge-0/0/4</td>\n",
       "    </tr>\n",
       "  </tbody>\n",
       "</table>\n",
       "</div>"
      ],
      "text/plain": [
       "                                                                                                                                               content  \\\n",
       "0   QNH8103AGG02_xe-1/2/1_QNH0016PRT04_xe-3/0/0_VIA_L2VPN_LSN8001AGG01_GigabitEthernet7/0/0_QNH0016AGG04_xe-1/2/2 | adminStatus: 1 | operatorStatus: 2   \n",
       "1   QNH8103AGG02_xe-1/2/1_QNH0016PRT04_xe-3/0/0_VIA_L2VPN_LSN8001AGG01_GigabitEthernet7/0/0_QNH0016AGG04_xe-1/2/2 | adminStatus: 1 | operatorStatus: 2   \n",
       "2                                                                              HLA9103P2.SDP-RecommenDB-01_ocp-p1 | adminStatus: 1 | operatorStatus: 2   \n",
       "3                                                                              HLA9103P2.SDP-RecommenDB-01_ocp-p1 | adminStatus: 1 | operatorStatus: 2   \n",
       "16                                                                                          HHT9602.PECD.ASR22.02 | adminStatus: 1 | operatorStatus: 2   \n",
       "17                                                                                           HNI6986ASW01_xge_2/1 | adminStatus: 1 | operatorStatus: 2   \n",
       "18                                                                             HLA9103P2.SDP-RecommenDB-01_ocp-p1 | adminStatus: 1 | operatorStatus: 2   \n",
       "19                                                                             HLA9103P2.SDP-RecommenDB-01_ocp-p1 | adminStatus: 1 | operatorStatus: 2   \n",
       "20                                                                             HLA9103P2.SDP-RecommenDB-01_ocp-p1 | adminStatus: 1 | operatorStatus: 2   \n",
       "21                                                                             HLA9103P2.SDP-RecommenDB-01_ocp-p1 | adminStatus: 1 | operatorStatus: 2   \n",
       "\n",
       "      device_code            port  \n",
       "0    QNH8103AGG02        xe-1/2/1  \n",
       "1    QNH8103AGG02        xe-1/2/1  \n",
       "2   HLA9103IPTV68        ge-0/0/4  \n",
       "3   HLA9103IPTV68        ge-0/0/4  \n",
       "16   HHT9602CSW38     Ethernet1/8  \n",
       "17   HNI5032AGG01  TenGigE0/1/0/0  \n",
       "18  HLA9103IPTV68        ge-0/0/4  \n",
       "19  HLA9103IPTV68        ge-0/0/4  \n",
       "20  HLA9103IPTV68        ge-0/0/4  \n",
       "21  HLA9103IPTV68        ge-0/0/4  "
      ]
     },
     "execution_count": 15,
     "metadata": {},
     "output_type": "execute_result"
    }
   ],
   "source": [
    "df_interfacedown = df[df['alarm_name']=='Interface down']\n",
    "df_interfacedown[df_interfacedown['alarm_group_id']==289656]\n",
    "\n",
    "# Hiển thị toàn bộ nội dung cột\n",
    "pd.set_option('display.max_colwidth', None)\n",
    "cols = ['content', 'device_code', 'port']\n",
    "df_interfacedown[cols].head(10)"
   ]
  },
  {
   "cell_type": "code",
   "execution_count": null,
   "id": "e4f81cef",
   "metadata": {},
   "outputs": [
    {
     "data": {
      "text/plain": [
       "1302"
      ]
     },
     "execution_count": 28,
     "metadata": {},
     "output_type": "execute_result"
    }
   ],
   "source": [
    "# I want to extract one sample, delete the column that has null value, and flatten that sample into text for the llm input \n",
    "sample = df_interfacedown.iloc[0]\n",
    "sample = sample.dropna()\n",
    "# Flatten the sample with column name and value \n",
    "flattened_sample = ', '.join([f\"{col}: {sample[col]}\" for col in sample.index])\n",
    "len(flattened_sample)"
   ]
  }
 ],
 "metadata": {
  "kernelspec": {
   "display_name": "Python 3",
   "language": "python",
   "name": "python3"
  },
  "language_info": {
   "codemirror_mode": {
    "name": "ipython",
    "version": 3
   },
   "file_extension": ".py",
   "mimetype": "text/x-python",
   "name": "python",
   "nbconvert_exporter": "python",
   "pygments_lexer": "ipython3",
   "version": "3.11.4"
  }
 },
 "nbformat": 4,
 "nbformat_minor": 5
}
